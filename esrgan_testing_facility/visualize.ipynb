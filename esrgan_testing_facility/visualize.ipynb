{
 "cells": [
  {
   "metadata": {
    "ExecuteTime": {
     "end_time": "2024-05-07T13:18:43.986463Z",
     "start_time": "2024-05-07T13:18:43.978391Z"
    }
   },
   "cell_type": "code",
   "source": [
    "# Function to apply styling\n",
    "def style_dataframe(df):\n",
    "    return df.style.set_table_styles([\n",
    "        {'selector': 'th', 'props': [('background-color', '#334257'), ('color', 'white'), ('font-family', 'Helvetica'), ('font-size', '16px'), ('font-weight', 'bold')]},\n",
    "        {'selector': 'td', 'props': [('font-family', 'Helvetica'), ('font-size', '14px'), ('color', '#121212')]},\n",
    "        {'selector': 'tr:nth-child(even)', 'props': [('background-color', '#e8e8e8')]},\n",
    "        {'selector': 'tr:nth-child(odd)', 'props': [('background-color', '#f9f9f9')]},\n",
    "        {'selector': 'tr:hover', 'props': [('background-color', '#bbc7ce')]},\n",
    "        {'selector': 'table', 'props': [('border-collapse', 'separate'), ('border-spacing', '0 10px')]}\n",
    "    ])"
   ],
   "id": "53189e997e1fdb06",
   "outputs": [],
   "execution_count": 1
  },
  {
   "metadata": {},
   "cell_type": "markdown",
   "source": "## First dataframe",
   "id": "7721d40f073295fa"
  },
  {
   "cell_type": "code",
   "id": "6d8c32f914cef9a7",
   "metadata": {
    "collapsed": true,
    "ExecuteTime": {
     "end_time": "2024-05-07T13:19:41.524311Z",
     "start_time": "2024-05-07T13:18:44.007574Z"
    }
   },
   "source": [
    "import pandas as pd\n",
    "import evaluation_results as ev_r\n",
    "import utility.metrics as m\n",
    "\n",
    "# Creating DataFrame for Benchmarks 1\n",
    "data1 = {\n",
    "    \"Compression Method\": [\"Dynamic Range\", \"Full Integer\", \"Float 16\"],\n",
    "    \"Validation PSNR (dB)\": [ev_r.drq_val_avg_psnr, ev_r.fiq_val_avg_psnr, ev_r.f16q_val_avg_psnr],  \n",
    "    \"Testing PSNR (dB)\": [ev_r.drq_test_avg_psnr, ev_r.fiq_test_avg_psnr, ev_r.f16q_test_avg_psnr],  \n",
    "    \"Validation SSIM\": [ev_r.drq_val_avg_ssim, ev_r.fiq_val_avg_ssim, ev_r.f16q_val_avg_ssim],       \n",
    "    \"Testing SSIM\": [ev_r.drq_test_avg_ssim, ev_r.fiq_test_avg_ssim, ev_r.f16q_test_avg_ssim],       \n",
    "    \"Size (MB)\": [m.get_file_size_in_mb_for('compressed_models/esrgan_drq.tflite'),\n",
    "                  m.get_file_size_in_mb_for('compressed_models/esrgan_fiq.tflite'),\n",
    "                  m.get_file_size_in_mb_for('compressed_models/esrgan_f16q.tflite')],\n",
    "    \"Compression Ratio\": [f\"{m.get_compression_ratio_for('compressed_models/esrgan_drq.tflite'):.2f}%\",\n",
    "                          f\"{m.get_compression_ratio_for('compressed_models/esrgan_fiq.tflite'):.2f}%\",\n",
    "                          f\"{m.get_compression_ratio_for('compressed_models/esrgan_f16q.tflite'):.2f}%\"]\n",
    "}\n",
    "\n",
    "df1 = pd.DataFrame(data1)\n",
    "\n",
    "styled_df1 = style_dataframe(df1)\n",
    "\n",
    "styled_df1"
   ],
   "outputs": [
    {
     "name": "stderr",
     "output_type": "stream",
     "text": [
      "Warning: Looks like you're using an outdated `kagglehub` version, please consider updating (latest version: 0.2.5)\n"
     ]
    },
    {
     "name": "stdout",
     "output_type": "stream",
     "text": [
      "Path to model files: C:\\Users\\darks\\.cache\\kagglehub\\models\\kaggle\\esrgan-tf2\\tensorFlow2\\esrgan-tf2\\1\n",
      "WARNING:tensorflow:From C:\\a_Skola\\ImageSuperResolution\\python\\ESRGAN\\venv\\Lib\\site-packages\\tf_keras\\src\\losses.py:2976: The name tf.losses.sparse_softmax_cross_entropy is deprecated. Please use tf.compat.v1.losses.sparse_softmax_cross_entropy instead.\n",
      "\n"
     ]
    },
    {
     "name": "stderr",
     "output_type": "stream",
     "text": [
      "WARNING:tensorflow:From C:\\a_Skola\\ImageSuperResolution\\python\\ESRGAN\\venv\\Lib\\site-packages\\tf_keras\\src\\losses.py:2976: The name tf.losses.sparse_softmax_cross_entropy is deprecated. Please use tf.compat.v1.losses.sparse_softmax_cross_entropy instead.\n",
      "\n"
     ]
    },
    {
     "name": "stdout",
     "output_type": "stream",
     "text": [
      "WARNING:tensorflow:From C:\\a_Skola\\ImageSuperResolution\\python\\ESRGAN\\venv\\Lib\\site-packages\\tensorflow_hub\\resolver.py:120: The name tf.gfile.MakeDirs is deprecated. Please use tf.io.gfile.makedirs instead.\n",
      "\n"
     ]
    },
    {
     "name": "stderr",
     "output_type": "stream",
     "text": [
      "WARNING:tensorflow:From C:\\a_Skola\\ImageSuperResolution\\python\\ESRGAN\\venv\\Lib\\site-packages\\tensorflow_hub\\resolver.py:120: The name tf.gfile.MakeDirs is deprecated. Please use tf.io.gfile.makedirs instead.\n",
      "\n"
     ]
    },
    {
     "name": "stdout",
     "output_type": "stream",
     "text": [
      "WARNING:tensorflow:From C:\\a_Skola\\ImageSuperResolution\\python\\ESRGAN\\venv\\Lib\\site-packages\\tensorflow_hub\\module_v2.py:126: The name tf.saved_model.load_v2 is deprecated. Please use tf.compat.v2.saved_model.load instead.\n",
      "\n"
     ]
    },
    {
     "name": "stderr",
     "output_type": "stream",
     "text": [
      "WARNING:tensorflow:From C:\\a_Skola\\ImageSuperResolution\\python\\ESRGAN\\venv\\Lib\\site-packages\\tensorflow_hub\\module_v2.py:126: The name tf.saved_model.load_v2 is deprecated. Please use tf.compat.v2.saved_model.load instead.\n",
      "\n",
      "WARNING:absl:Please consider providing the trackable_obj argument in the from_concrete_functions. Providing without the trackable_obj argument is deprecated and it will use the deprecated conversion path.\n",
      "C:\\a_Skola\\ImageSuperResolution\\python\\ESRGAN\\venv\\Lib\\site-packages\\tensorflow\\lite\\python\\convert.py:964: UserWarning: Statistics for quantized inputs were expected, but not specified; continuing anyway.\n",
      "  warnings.warn(\n",
      "WARNING:absl:Please consider providing the trackable_obj argument in the from_concrete_functions. Providing without the trackable_obj argument is deprecated and it will use the deprecated conversion path.\n",
      "WARNING:absl:Please consider providing the trackable_obj argument in the from_concrete_functions. Providing without the trackable_obj argument is deprecated and it will use the deprecated conversion path.\n"
     ]
    },
    {
     "name": "stdout",
     "output_type": "stream",
     "text": [
      "Full Integer Quantization benchmarking results:\n",
      "Average Validation PSNR score: 26.301798612605708, Average Validation SSIM score: 0.7694588981453465\n",
      "Average Testing PSNR score: 21.89055418239448, Average Testing SSIM score: 0.6424607778889415\n",
      "Dynamic Range Quantization benchmarking results:\n",
      "Average Validation PSNR score: 27.042957494380467, Average Validation SSIM score: 0.8067752382464828\n",
      "Average Testing PSNR score: 22.294221310056663, Average Testing SSIM score: 0.672515171615486\n",
      "Float 16 Quantization benchmarking results:\n",
      "Average Validation PSNR score: 27.071217846559875, Average Validation SSIM score: 0.8093096176206642\n",
      "Average Testing PSNR score: 22.301541551140623, Average Testing SSIM score: 0.674006592677572\n",
      "The size of the file is: 4881824 bytes\n",
      "The size of the file is: 5023800 bytes\n",
      "The size of the file is: 9436428 bytes\n"
     ]
    },
    {
     "data": {
      "text/plain": [
       "<pandas.io.formats.style.Styler at 0x2a60c789d90>"
      ],
      "text/html": [
       "<style type=\"text/css\">\n",
       "#T_2ab07 th {\n",
       "  background-color: #334257;\n",
       "  color: white;\n",
       "  font-family: Helvetica;\n",
       "  font-size: 16px;\n",
       "  font-weight: bold;\n",
       "}\n",
       "#T_2ab07 td {\n",
       "  font-family: Helvetica;\n",
       "  font-size: 14px;\n",
       "  color: #121212;\n",
       "}\n",
       "#T_2ab07 tr:nth-child(even) {\n",
       "  background-color: #e8e8e8;\n",
       "}\n",
       "#T_2ab07 tr:nth-child(odd) {\n",
       "  background-color: #f9f9f9;\n",
       "}\n",
       "#T_2ab07 tr:hover {\n",
       "  background-color: #bbc7ce;\n",
       "}\n",
       "#T_2ab07 table {\n",
       "  border-collapse: separate;\n",
       "  border-spacing: 0 10px;\n",
       "}\n",
       "</style>\n",
       "<table id=\"T_2ab07\">\n",
       "  <thead>\n",
       "    <tr>\n",
       "      <th class=\"blank level0\" >&nbsp;</th>\n",
       "      <th id=\"T_2ab07_level0_col0\" class=\"col_heading level0 col0\" >Compression Method</th>\n",
       "      <th id=\"T_2ab07_level0_col1\" class=\"col_heading level0 col1\" >Validation PSNR (dB)</th>\n",
       "      <th id=\"T_2ab07_level0_col2\" class=\"col_heading level0 col2\" >Testing PSNR (dB)</th>\n",
       "      <th id=\"T_2ab07_level0_col3\" class=\"col_heading level0 col3\" >Validation SSIM</th>\n",
       "      <th id=\"T_2ab07_level0_col4\" class=\"col_heading level0 col4\" >Testing SSIM</th>\n",
       "      <th id=\"T_2ab07_level0_col5\" class=\"col_heading level0 col5\" >Size (MB)</th>\n",
       "      <th id=\"T_2ab07_level0_col6\" class=\"col_heading level0 col6\" >Compression Ratio</th>\n",
       "    </tr>\n",
       "  </thead>\n",
       "  <tbody>\n",
       "    <tr>\n",
       "      <th id=\"T_2ab07_level0_row0\" class=\"row_heading level0 row0\" >0</th>\n",
       "      <td id=\"T_2ab07_row0_col0\" class=\"data row0 col0\" >Dynamic Range</td>\n",
       "      <td id=\"T_2ab07_row0_col1\" class=\"data row0 col1\" >27.042957</td>\n",
       "      <td id=\"T_2ab07_row0_col2\" class=\"data row0 col2\" >22.294221</td>\n",
       "      <td id=\"T_2ab07_row0_col3\" class=\"data row0 col3\" >0.806775</td>\n",
       "      <td id=\"T_2ab07_row0_col4\" class=\"data row0 col4\" >0.672515</td>\n",
       "      <td id=\"T_2ab07_row0_col5\" class=\"data row0 col5\" >4.655670</td>\n",
       "      <td id=\"T_2ab07_row0_col6\" class=\"data row0 col6\" >77.38%</td>\n",
       "    </tr>\n",
       "    <tr>\n",
       "      <th id=\"T_2ab07_level0_row1\" class=\"row_heading level0 row1\" >1</th>\n",
       "      <td id=\"T_2ab07_row1_col0\" class=\"data row1 col0\" >Full Integer</td>\n",
       "      <td id=\"T_2ab07_row1_col1\" class=\"data row1 col1\" >26.301799</td>\n",
       "      <td id=\"T_2ab07_row1_col2\" class=\"data row1 col2\" >21.890554</td>\n",
       "      <td id=\"T_2ab07_row1_col3\" class=\"data row1 col3\" >0.769459</td>\n",
       "      <td id=\"T_2ab07_row1_col4\" class=\"data row1 col4\" >0.642461</td>\n",
       "      <td id=\"T_2ab07_row1_col5\" class=\"data row1 col5\" >4.791069</td>\n",
       "      <td id=\"T_2ab07_row1_col6\" class=\"data row1 col6\" >76.72%</td>\n",
       "    </tr>\n",
       "    <tr>\n",
       "      <th id=\"T_2ab07_level0_row2\" class=\"row_heading level0 row2\" >2</th>\n",
       "      <td id=\"T_2ab07_row2_col0\" class=\"data row2 col0\" >Float 16</td>\n",
       "      <td id=\"T_2ab07_row2_col1\" class=\"data row2 col1\" >27.071218</td>\n",
       "      <td id=\"T_2ab07_row2_col2\" class=\"data row2 col2\" >22.301542</td>\n",
       "      <td id=\"T_2ab07_row2_col3\" class=\"data row2 col3\" >0.809310</td>\n",
       "      <td id=\"T_2ab07_row2_col4\" class=\"data row2 col4\" >0.674007</td>\n",
       "      <td id=\"T_2ab07_row2_col5\" class=\"data row2 col5\" >8.999279</td>\n",
       "      <td id=\"T_2ab07_row2_col6\" class=\"data row2 col6\" >56.28%</td>\n",
       "    </tr>\n",
       "  </tbody>\n",
       "</table>\n"
      ]
     },
     "execution_count": 2,
     "metadata": {},
     "output_type": "execute_result"
    }
   ],
   "execution_count": 2
  },
  {
   "metadata": {},
   "cell_type": "markdown",
   "source": "## Second dataframe",
   "id": "4c93bd7cb65e171e"
  },
  {
   "metadata": {
    "ExecuteTime": {
     "end_time": "2024-05-07T13:20:09.733496Z",
     "start_time": "2024-05-07T13:19:41.525316Z"
    }
   },
   "cell_type": "code",
   "source": [
    "import benchmark_interface as bm\n",
    "import utility.methods as methods\n",
    "bm.benchmark(methods.quantization_strategies)\n",
    "\n",
    "# Creating DataFrame for Android tablet device\n",
    "data2 = {\n",
    "    \"Device\": [\"TS9+\", \"S10+\", \"TS9+\", \"S10+\", \"TS9+\", \"S10+\"],\n",
    "    \"Method\": [\"DRQ\", \"DRQ\", \"FIQ\", \"FIQ\", \"FL16\", \"FL16\"],\n",
    "    \"Average CPU Inference Time (ms)\": [\n",
    "        bm.records[0]['CPU time (ms)'],\n",
    "        bm.records[3]['CPU time (ms)'],\n",
    "        bm.records[2]['CPU time (ms)'],\n",
    "        bm.records[5]['CPU time (ms)'],\n",
    "        bm.records[1]['CPU time (ms)'],\n",
    "        bm.records[4]['CPU time (ms)']\n",
    "    ]\n",
    "}\n",
    "df2 = pd.DataFrame(data2)\n",
    "\n",
    "styled_df2 = style_dataframe(df2)\n",
    "\n",
    "styled_df2"
   ],
   "id": "initial_id",
   "outputs": [
    {
     "name": "stdout",
     "output_type": "stream",
     "text": [
      "ADB log buffer cleared for device R52WA0GP2MM.\n",
      "Running command: adb -s R52WA0GP2MM shell am start -S -n org.tensorflow.lite.benchmark/.BenchmarkModelActivity --es args \\\"--graph=/data/local/tmp/esrgan_drq.tflite --num_threads=4 --num_runs=1\\\"\n",
      "ADB log buffer cleared for device R52WA0GP2MM.\n",
      "Running command: adb -s R52WA0GP2MM shell am start -S -n org.tensorflow.lite.benchmark/.BenchmarkModelActivity --es args \\\"--graph=/data/local/tmp/esrgan_f16q.tflite --num_threads=4 --num_runs=1\\\"\n",
      "ADB log buffer cleared for device R52WA0GP2MM.\n",
      "Running command: adb -s R52WA0GP2MM shell am start -S -n org.tensorflow.lite.benchmark/.BenchmarkModelActivity --es args \\\"--graph=/data/local/tmp/esrgan_fiq.tflite --num_threads=4 --num_runs=1\\\"\n",
      "ADB log buffer cleared for device 192.168.8.120:43991.\n",
      "Running command: adb -s 192.168.8.120:43991 shell am start -S -n org.tensorflow.lite.benchmark/.BenchmarkModelActivity --es args \\\"--graph=/data/local/tmp/esrgan_drq.tflite --num_threads=4 --num_runs=1\\\"\n",
      "ADB log buffer cleared for device 192.168.8.120:43991.\n",
      "Running command: adb -s 192.168.8.120:43991 shell am start -S -n org.tensorflow.lite.benchmark/.BenchmarkModelActivity --es args \\\"--graph=/data/local/tmp/esrgan_f16q.tflite --num_threads=4 --num_runs=1\\\"\n",
      "ADB log buffer cleared for device 192.168.8.120:43991.\n",
      "Running command: adb -s 192.168.8.120:43991 shell am start -S -n org.tensorflow.lite.benchmark/.BenchmarkModelActivity --es args \\\"--graph=/data/local/tmp/esrgan_fiq.tflite --num_threads=4 --num_runs=1\\\"\n"
     ]
    },
    {
     "data": {
      "text/plain": [
       "<pandas.io.formats.style.Styler at 0x2a601225b90>"
      ],
      "text/html": [
       "<style type=\"text/css\">\n",
       "#T_07cc6 th {\n",
       "  background-color: #334257;\n",
       "  color: white;\n",
       "  font-family: Helvetica;\n",
       "  font-size: 16px;\n",
       "  font-weight: bold;\n",
       "}\n",
       "#T_07cc6 td {\n",
       "  font-family: Helvetica;\n",
       "  font-size: 14px;\n",
       "  color: #121212;\n",
       "}\n",
       "#T_07cc6 tr:nth-child(even) {\n",
       "  background-color: #e8e8e8;\n",
       "}\n",
       "#T_07cc6 tr:nth-child(odd) {\n",
       "  background-color: #f9f9f9;\n",
       "}\n",
       "#T_07cc6 tr:hover {\n",
       "  background-color: #bbc7ce;\n",
       "}\n",
       "#T_07cc6 table {\n",
       "  border-collapse: separate;\n",
       "  border-spacing: 0 10px;\n",
       "}\n",
       "</style>\n",
       "<table id=\"T_07cc6\">\n",
       "  <thead>\n",
       "    <tr>\n",
       "      <th class=\"blank level0\" >&nbsp;</th>\n",
       "      <th id=\"T_07cc6_level0_col0\" class=\"col_heading level0 col0\" >Device</th>\n",
       "      <th id=\"T_07cc6_level0_col1\" class=\"col_heading level0 col1\" >Method</th>\n",
       "      <th id=\"T_07cc6_level0_col2\" class=\"col_heading level0 col2\" >Average CPU Inference Time (ms)</th>\n",
       "    </tr>\n",
       "  </thead>\n",
       "  <tbody>\n",
       "    <tr>\n",
       "      <th id=\"T_07cc6_level0_row0\" class=\"row_heading level0 row0\" >0</th>\n",
       "      <td id=\"T_07cc6_row0_col0\" class=\"data row0 col0\" >TS9+</td>\n",
       "      <td id=\"T_07cc6_row0_col1\" class=\"data row0 col1\" >DRQ</td>\n",
       "      <td id=\"T_07cc6_row0_col2\" class=\"data row0 col2\" >3972.950000</td>\n",
       "    </tr>\n",
       "    <tr>\n",
       "      <th id=\"T_07cc6_level0_row1\" class=\"row_heading level0 row1\" >1</th>\n",
       "      <td id=\"T_07cc6_row1_col0\" class=\"data row1 col0\" >S10+</td>\n",
       "      <td id=\"T_07cc6_row1_col1\" class=\"data row1 col1\" >DRQ</td>\n",
       "      <td id=\"T_07cc6_row1_col2\" class=\"data row1 col2\" >1943.440000</td>\n",
       "    </tr>\n",
       "    <tr>\n",
       "      <th id=\"T_07cc6_level0_row2\" class=\"row_heading level0 row2\" >2</th>\n",
       "      <td id=\"T_07cc6_row2_col0\" class=\"data row2 col0\" >TS9+</td>\n",
       "      <td id=\"T_07cc6_row2_col1\" class=\"data row2 col1\" >FIQ</td>\n",
       "      <td id=\"T_07cc6_row2_col2\" class=\"data row2 col2\" >5.371910</td>\n",
       "    </tr>\n",
       "    <tr>\n",
       "      <th id=\"T_07cc6_level0_row3\" class=\"row_heading level0 row3\" >3</th>\n",
       "      <td id=\"T_07cc6_row3_col0\" class=\"data row3 col0\" >S10+</td>\n",
       "      <td id=\"T_07cc6_row3_col1\" class=\"data row3 col1\" >FIQ</td>\n",
       "      <td id=\"T_07cc6_row3_col2\" class=\"data row3 col2\" >3.582830</td>\n",
       "    </tr>\n",
       "    <tr>\n",
       "      <th id=\"T_07cc6_level0_row4\" class=\"row_heading level0 row4\" >4</th>\n",
       "      <td id=\"T_07cc6_row4_col0\" class=\"data row4 col0\" >TS9+</td>\n",
       "      <td id=\"T_07cc6_row4_col1\" class=\"data row4 col1\" >FL16</td>\n",
       "      <td id=\"T_07cc6_row4_col2\" class=\"data row4 col2\" >5.457360</td>\n",
       "    </tr>\n",
       "    <tr>\n",
       "      <th id=\"T_07cc6_level0_row5\" class=\"row_heading level0 row5\" >5</th>\n",
       "      <td id=\"T_07cc6_row5_col0\" class=\"data row5 col0\" >S10+</td>\n",
       "      <td id=\"T_07cc6_row5_col1\" class=\"data row5 col1\" >FL16</td>\n",
       "      <td id=\"T_07cc6_row5_col2\" class=\"data row5 col2\" >3.690320</td>\n",
       "    </tr>\n",
       "  </tbody>\n",
       "</table>\n"
      ]
     },
     "execution_count": 3,
     "metadata": {},
     "output_type": "execute_result"
    }
   ],
   "execution_count": 3
  },
  {
   "metadata": {},
   "cell_type": "markdown",
   "source": "## Save dataframes as png's",
   "id": "82773da299717d33"
  },
  {
   "metadata": {
    "ExecuteTime": {
     "end_time": "2024-05-07T13:20:10.358609Z",
     "start_time": "2024-05-07T13:20:09.735446Z"
    }
   },
   "cell_type": "code",
   "source": [
    "import dataframe_image as dfi\n",
    "\n",
    "dfi.export(styled_df1, 'results/styled_dataframe1.png', table_conversion='matplotlib', dpi=300)\n",
    "dfi.export(styled_df2, 'results/styled_dataframe2.png', table_conversion='matplotlib', dpi=300)"
   ],
   "id": "260e3b6da26856d0",
   "outputs": [],
   "execution_count": 4
  },
  {
   "metadata": {},
   "cell_type": "markdown",
   "source": "## Create seaborn graph",
   "id": "f5f48ae5d1e34751"
  },
  {
   "metadata": {
    "ExecuteTime": {
     "end_time": "2024-05-07T13:20:11.410551Z",
     "start_time": "2024-05-07T13:20:10.359624Z"
    }
   },
   "cell_type": "code",
   "source": [
    "import seaborn as sns\n",
    "import matplotlib.pyplot as plt\n",
    "\n",
    "df2['Device + Quantization Technique'] = df2['Device'] + \" + \" + df2['Method']\n",
    "\n",
    "plt.figure(figsize=(12, 7))\n",
    "bar_plot = sns.barplot(x=\"Device + Quantization Technique\", y=\"Average CPU Inference Time (ms)\", data=df2, palette='dark')\n",
    "\n",
    "plt.yscale('log')\n",
    "\n",
    "plt.title('Log-Scale Average Inference Time by Device and Quantization Technique')\n",
    "plt.xlabel('Device + Quantization Technique')\n",
    "plt.ylabel('Log-Scale Average Inference Time (ms)')\n",
    "plt.xticks(rotation=45)\n",
    "\n",
    "plt.grid(True, which='both', linestyle='--', linewidth=0.5)\n",
    "plt.tight_layout()\n",
    "\n",
    "plt.savefig('results/cpu_time.png', dpi=300)\n",
    "\n",
    "plt.show()"
   ],
   "id": "7e9c38b3d22e22e3",
   "outputs": [
    {
     "name": "stderr",
     "output_type": "stream",
     "text": [
      "C:\\Users\\darks\\AppData\\Local\\Temp\\ipykernel_20532\\75632213.py:7: FutureWarning: \n",
      "\n",
      "Passing `palette` without assigning `hue` is deprecated and will be removed in v0.14.0. Assign the `x` variable to `hue` and set `legend=False` for the same effect.\n",
      "\n",
      "  bar_plot = sns.barplot(x=\"Device + Quantization Technique\", y=\"Average CPU Inference Time (ms)\", data=df2, palette='dark')\n"
     ]
    },
    {
     "data": {
      "text/plain": [
       "<Figure size 1200x700 with 1 Axes>"
      ],
      "image/png": "[encoded data removed]"
     },
     "metadata": {},
     "output_type": "display_data"
    }
   ],
   "execution_count": 5
  },
  {
   "metadata": {},
   "cell_type": "markdown",
   "source": "## Visual comparison using float 16",
   "id": "9e652aa2154210dd"
  },
  {
   "metadata": {
    "ExecuteTime": {
     "end_time": "2024-05-07T13:20:13.862251Z",
     "start_time": "2024-05-07T13:20:11.412565Z"
    }
   },
   "cell_type": "code",
   "source": [
    "from skimage import io\n",
    "import numpy as np\n",
    "import PIL.Image\n",
    "import tensorflow as tf\n",
    "\n",
    "interpreter = tf.lite.Interpreter(model_path='compressed_models/esrgan_f16q.tflite')\n",
    "interpreter.allocate_tensors()\n",
    "input_details = interpreter.get_input_details()\n",
    "output_details = interpreter.get_output_details()\n",
    "\n",
    "low_res_path = \"datasets/validation_dataset/low_res_63.png\"\n",
    "ground_truth_path = \"datasets/validation_dataset/ground_truth_63.png\"\n",
    "\n",
    "# Load and process low-resolution image\n",
    "low_res_image = io.imread(low_res_path)\n",
    "low_res_image = PIL.Image.fromarray(low_res_image)\n",
    "low_res_image = low_res_image.resize((128, 128), PIL.Image.BICUBIC)\n",
    "low_res_image = np.array(low_res_image, dtype=np.float32)\n",
    "low_res_image = np.expand_dims(low_res_image, axis=0)\n",
    "\n",
    "# Perform inference\n",
    "interpreter.set_tensor(input_details[0]['index'], low_res_image)\n",
    "interpreter.invoke()\n",
    "output_image = interpreter.tensor(output_details[0]['index'])()\n",
    "output_image = np.clip(output_image.squeeze(), 0, 255).astype(np.uint8)\n",
    "\n",
    "# Prepare images for comparison\n",
    "super_resolution_img = PIL.Image.fromarray(output_image, 'RGB')\n",
    "super_resolution_img = super_resolution_img.resize((512, 512))\n",
    "down_sampled_image = PIL.Image.open(low_res_path).resize((512, 512))\n",
    "ground_truth_image = PIL.Image.open(ground_truth_path).resize((512, 512))\n",
    "\n",
    "# Function to concatenate images horizontally\n",
    "def get_concat_h(im1, im2):\n",
    "    dst = PIL.Image.new('RGB', (im1.width + im2.width, im1.height))\n",
    "    dst.paste(im1, (0, 0))\n",
    "    dst.paste(im2, (im1.width, 0))\n",
    "    return dst\n",
    "\n",
    "# Concatenate and display images\n",
    "combined_image_1 = get_concat_h(down_sampled_image, super_resolution_img)\n",
    "combined_image_1.show()\n",
    "combined_image_1.save(\"results/lr_sr.png\")\n",
    "\n",
    "combined_image_2 = get_concat_h(ground_truth_image, super_resolution_img)\n",
    "combined_image_2.show()\n",
    "combined_image_2.save(\"results/hr_sr.png\")"
   ],
   "id": "d9d9920398e7d202",
   "outputs": [],
   "execution_count": 6
  },
  {
   "metadata": {
    "ExecuteTime": {
     "end_time": "2024-05-07T13:20:13.866046Z",
     "start_time": "2024-05-07T13:20:13.863270Z"
    }
   },
   "cell_type": "code",
   "source": "",
   "id": "92b13715727922d",
   "outputs": [],
   "execution_count": 6
  }
 ],
 "metadata": {
  "kernelspec": {
   "display_name": "Python 3",
   "language": "python",
   "name": "python3"
  },
  "language_info": {
   "codemirror_mode": {
    "name": "ipython",
    "version": 2
   },
   "file_extension": ".py",
   "mimetype": "text/x-python",
   "name": "python",
   "nbconvert_exporter": "python",
   "pygments_lexer": "ipython2",
   "version": "2.7.6"
  }
 },
 "nbformat": 4,
 "nbformat_minor": 5
}
